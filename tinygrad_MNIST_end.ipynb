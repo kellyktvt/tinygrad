{
 "cells": [
  {
   "cell_type": "markdown",
   "metadata": {},
   "source": [
    "## Device configuration"
   ]
  },
  {
   "cell_type": "code",
   "execution_count": 22,
   "metadata": {},
   "outputs": [
    {
     "name": "stdout",
     "output_type": "stream",
     "text": [
      "METAL\n"
     ]
    }
   ],
   "source": [
    "from tinygrad import Device\n",
    "\n",
    "print(Device.DEFAULT)"
   ]
  },
  {
   "cell_type": "markdown",
   "metadata": {},
   "source": [
    "## Model"
   ]
  },
  {
   "cell_type": "code",
   "execution_count": 23,
   "metadata": {},
   "outputs": [],
   "source": [
    "from tinygrad import Tensor, nn\n",
    "\n",
    "class Model:\n",
    "  def __init__(self):\n",
    "    self.l1 = nn.Conv2d(1, 32, kernel_size=(3,3))\n",
    "    self.l2 = nn.Conv2d(32, 64, kernel_size=(3,3))\n",
    "    self.l3 = nn.Linear(1600, 10)\n",
    "\n",
    "  def __call__(self, x:Tensor) -> Tensor:\n",
    "    x = self.l1(x).relu().max_pool2d((2,2))\n",
    "    x = self.l2(x).relu().max_pool2d((2,2))\n",
    "    return self.l3(x.flatten(1).dropout(0.5))"
   ]
  },
  {
   "cell_type": "markdown",
   "metadata": {},
   "source": [
    "## Get the MNIST dataset"
   ]
  },
  {
   "cell_type": "code",
   "execution_count": 24,
   "metadata": {},
   "outputs": [
    {
     "name": "stdout",
     "output_type": "stream",
     "text": [
      "(60000, 1, 28, 28) dtypes.uchar (60000,) dtypes.uchar\n"
     ]
    }
   ],
   "source": [
    "from tinygrad.nn.datasets import mnist\n",
    "\n",
    "X_train, Y_train, X_test, Y_test = mnist()\n",
    "print(X_train.shape, X_train.dtype, Y_train.shape, Y_train.dtype)"
   ]
  },
  {
   "cell_type": "markdown",
   "metadata": {},
   "source": [
    "## Use the model"
   ]
  },
  {
   "cell_type": "code",
   "execution_count": 25,
   "metadata": {},
   "outputs": [
    {
     "name": "stdout",
     "output_type": "stream",
     "text": [
      "0.08619999885559082\n"
     ]
    }
   ],
   "source": [
    "model = Model()\n",
    "acc = (model(X_test).argmax(axis=1) == Y_test).mean()\n",
    "print(acc.item())  "
   ]
  },
  {
   "cell_type": "code",
   "execution_count": 26,
   "metadata": {},
   "outputs": [
    {
     "name": "stdout",
     "output_type": "stream",
     "text": [
      "+-----------+------------+\n",
      "|  Modules  | Parameters |\n",
      "+-----------+------------+\n",
      "| l1.weight |    288     |\n",
      "|  l1.bias  |     32     |\n",
      "| l2.weight |   18432    |\n",
      "|  l2.bias  |     64     |\n",
      "| l3.weight |   16000    |\n",
      "|  l3.bias  |     10     |\n",
      "+-----------+------------+\n",
      "Total Trainable Params: 34826\n",
      "\n"
     ]
    },
    {
     "data": {
      "text/plain": [
       "np.int64(34826)"
      ]
     },
     "execution_count": 26,
     "metadata": {},
     "output_type": "execute_result"
    }
   ],
   "source": [
    "from prettytable import PrettyTable\n",
    "import numpy as np\n",
    "\n",
    "def count_parameters(model):\n",
    "    table = PrettyTable([\"Modules\", \"Parameters\"])\n",
    "    total_params = 0\n",
    "    layers = [model.l1, model.l2, model.l3]\n",
    "    layer_names = ['l1', 'l2', 'l3']\n",
    "    for layer, name in zip(layers, layer_names):\n",
    "        weight_params = np.prod(layer.weight.shape)\n",
    "        bias_params = np.prod(layer.bias.shape)\n",
    "        table.add_row([f\"{name}.weight\", weight_params])\n",
    "        table.add_row([f\"{name}.bias\", bias_params])\n",
    "        total_params += weight_params + bias_params\n",
    "    print(table)\n",
    "    print(f\"Total Trainable Params: {total_params}\\n\")\n",
    "    return total_params\n",
    "\n",
    "count_parameters(model)"
   ]
  },
  {
   "cell_type": "markdown",
   "metadata": {},
   "source": [
    "### Use the PyTorch weights"
   ]
  },
  {
   "cell_type": "code",
   "execution_count": 27,
   "metadata": {},
   "outputs": [],
   "source": [
    "loaded_weights = np.load('pytorch_weights.npy', allow_pickle=True).item()\n",
    "\n",
    "model.l1.weight = Tensor(loaded_weights['l1.weight'])\n",
    "model.l1.bias = Tensor(loaded_weights['l1.bias'])\n",
    "model.l2.weight = Tensor(loaded_weights['l2.weight'])\n",
    "model.l2.bias = Tensor(loaded_weights['l2.bias'])\n",
    "model.l3.weight = Tensor(loaded_weights['l3.weight'])\n",
    "model.l3.bias = Tensor(loaded_weights['l3.bias'])"
   ]
  },
  {
   "cell_type": "markdown",
   "metadata": {},
   "source": [
    "## Final probabilities"
   ]
  },
  {
   "cell_type": "code",
   "execution_count": 28,
   "metadata": {},
   "outputs": [
    {
     "name": "stdout",
     "output_type": "stream",
     "text": [
      "tinygrad probabilities: [[1.9577482e-12 3.4281735e-13 3.8866960e-06 8.2451152e-08 3.0581534e-19\n",
      "  1.0736593e-13 1.4817580e-18 9.9999607e-01 4.3714900e-11 2.7440944e-10]]\n"
     ]
    }
   ],
   "source": [
    "test_image = X_test[0:1]\n",
    "tinygrad_probs = model(test_image).softmax().numpy()\n",
    "print(\"tinygrad probabilities:\", tinygrad_probs)"
   ]
  }
 ],
 "metadata": {
  "kernelspec": {
   "display_name": ".venv",
   "language": "python",
   "name": "python3"
  },
  "language_info": {
   "codemirror_mode": {
    "name": "ipython",
    "version": 3
   },
   "file_extension": ".py",
   "mimetype": "text/x-python",
   "name": "python",
   "nbconvert_exporter": "python",
   "pygments_lexer": "ipython3",
   "version": "3.9.6"
  }
 },
 "nbformat": 4,
 "nbformat_minor": 2
}
