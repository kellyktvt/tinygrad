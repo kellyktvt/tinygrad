{
 "cells": [
  {
   "cell_type": "markdown",
   "metadata": {},
   "source": [
    "## Device configuration"
   ]
  },
  {
   "cell_type": "code",
   "execution_count": 1,
   "metadata": {},
   "outputs": [
    {
     "name": "stdout",
     "output_type": "stream",
     "text": [
      "mps\n"
     ]
    }
   ],
   "source": [
    "import torch\n",
    "\n",
    "if torch.backends.mps.is_available():\n",
    "    device = torch.device(\"mps\")\n",
    "else:\n",
    "    device = torch.device(\"cpu\")  \n",
    "print(device)"
   ]
  },
  {
   "cell_type": "markdown",
   "metadata": {},
   "source": [
    "## Model"
   ]
  },
  {
   "cell_type": "code",
   "execution_count": 2,
   "metadata": {},
   "outputs": [],
   "source": [
    "import torch.nn as nn\n",
    "import torch.nn.functional as F\n",
    "\n",
    "class Model(nn.Module):\n",
    "    def __init__(self):\n",
    "        super().__init__()\n",
    "        self.l1 = nn.Conv2d(1, 32, kernel_size=(3,3))\n",
    "        self.l2 = nn.Conv2d(32, 64, kernel_size=(3,3))\n",
    "        self.l3 = nn.Linear(1600, 10)\n",
    "\n",
    "    def forward(self, x):\n",
    "        x = F.max_pool2d(F.relu(self.l1(x)), (2,2))\n",
    "        x = F.max_pool2d(F.relu(self.l2(x)), (2,2))\n",
    "        return self.l3(F.dropout(x.flatten(1), 0.5, self.training))"
   ]
  },
  {
   "cell_type": "markdown",
   "metadata": {},
   "source": [
    "## Get the MNIST dataset"
   ]
  },
  {
   "cell_type": "code",
   "execution_count": 3,
   "metadata": {},
   "outputs": [
    {
     "name": "stderr",
     "output_type": "stream",
     "text": [
      "https://storage.googleapis.com/cvdf-datasets/mnist/train-images-idx3-ubyte.gz: 4\n",
      "https://storage.googleapis.com/cvdf-datasets/mnist/train-labels-idx1-ubyte.gz: 6\n",
      "https://storage.googleapis.com/cvdf-datasets/mnist/t10k-images-idx3-ubyte.gz: 7.\n",
      "https://storage.googleapis.com/cvdf-datasets/mnist/t10k-labels-idx1-ubyte.gz: 10\n"
     ]
    },
    {
     "name": "stdout",
     "output_type": "stream",
     "text": [
      "torch.Size([60000, 1, 28, 28]) torch.float32 torch.Size([60000]) torch.int64\n"
     ]
    }
   ],
   "source": [
    "from tinygrad.nn.datasets import mnist\n",
    "\n",
    "X_train, Y_train, X_test, Y_test = mnist()\n",
    "\n",
    "# Convert tinygrad Tensors to PyTorch tensors \n",
    "X_train = torch.from_numpy(X_train.numpy()).float().reshape(-1, 1, 28, 28) \n",
    "Y_train = torch.from_numpy(Y_train.numpy()).long()\n",
    "X_test = torch.from_numpy(X_test.numpy()).float().reshape(-1, 1, 28, 28)\n",
    "Y_test = torch.from_numpy(Y_test.numpy()).long()\n",
    "\n",
    "print(X_train.shape, X_train.dtype, Y_train.shape, Y_train.dtype)"
   ]
  },
  {
   "cell_type": "markdown",
   "metadata": {},
   "source": [
    "## Use the model"
   ]
  },
  {
   "cell_type": "code",
   "execution_count": 4,
   "metadata": {},
   "outputs": [],
   "source": [
    "# Move model and data to the device\n",
    "model = Model().to(device)\n",
    "X_train = X_train.to(device)\n",
    "Y_train = Y_train.to(device)\n",
    "X_test = X_test.to(device)\n",
    "Y_test = Y_test.to(device)"
   ]
  },
  {
   "cell_type": "code",
   "execution_count": 5,
   "metadata": {},
   "outputs": [
    {
     "name": "stdout",
     "output_type": "stream",
     "text": [
      "0.12239999324083328\n"
     ]
    }
   ],
   "source": [
    "acc = (model(X_test).argmax(axis=1) == Y_test).float().mean()\n",
    "print(acc.item())  "
   ]
  },
  {
   "cell_type": "markdown",
   "metadata": {},
   "source": [
    "### Use the tinygrad weights"
   ]
  },
  {
   "cell_type": "code",
   "execution_count": 6,
   "metadata": {},
   "outputs": [],
   "source": [
    "import numpy as np\n",
    "\n",
    "loaded_weights = np.load('tinygrad_weights.npy', allow_pickle=True).item()\n",
    "\n",
    "model.l1.weight.data = torch.tensor(loaded_weights['l1.weight']).to(device)\n",
    "model.l1.bias.data = torch.tensor(loaded_weights['l1.bias']).to(device)\n",
    "model.l2.weight.data = torch.tensor(loaded_weights['l2.weight']).to(device)\n",
    "model.l2.bias.data = torch.tensor(loaded_weights['l2.bias']).to(device)\n",
    "model.l3.weight.data = torch.tensor(loaded_weights['l3.weight']).to(device)\n",
    "model.l3.bias.data = torch.tensor(loaded_weights['l3.bias']).to(device)"
   ]
  },
  {
   "cell_type": "markdown",
   "metadata": {},
   "source": [
    "## Final probabilities"
   ]
  },
  {
   "cell_type": "code",
   "execution_count": 7,
   "metadata": {},
   "outputs": [
    {
     "name": "stdout",
     "output_type": "stream",
     "text": [
      "PyTorch probabilities: [[2.6096042e-13 1.2902114e-15 3.1515359e-07 2.1935040e-09 4.6694077e-19\n",
      "  1.0634544e-16 2.9910848e-26 9.9999964e-01 2.9652318e-12 2.1830036e-12]]\n"
     ]
    }
   ],
   "source": [
    "test_image = X_test[0:1]\n",
    "model.eval()\n",
    "with torch.no_grad():\n",
    "    pytorch_probs = F.softmax(model(test_image), dim=1).cpu().numpy()\n",
    "print(\"PyTorch probabilities:\", pytorch_probs)"
   ]
  }
 ],
 "metadata": {
  "kernelspec": {
   "display_name": ".venv",
   "language": "python",
   "name": "python3"
  },
  "language_info": {
   "codemirror_mode": {
    "name": "ipython",
    "version": 3
   },
   "file_extension": ".py",
   "mimetype": "text/x-python",
   "name": "python",
   "nbconvert_exporter": "python",
   "pygments_lexer": "ipython3",
   "version": "3.12.5"
  }
 },
 "nbformat": 4,
 "nbformat_minor": 2
}
