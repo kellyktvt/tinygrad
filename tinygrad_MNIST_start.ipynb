{
 "cells": [
  {
   "cell_type": "markdown",
   "metadata": {},
   "source": [
    "## Device configuration"
   ]
  },
  {
   "cell_type": "code",
   "execution_count": 1,
   "metadata": {},
   "outputs": [
    {
     "name": "stdout",
     "output_type": "stream",
     "text": [
      "METAL\n"
     ]
    }
   ],
   "source": [
    "from tinygrad import Device\n",
    "\n",
    "print(Device.DEFAULT)"
   ]
  },
  {
   "cell_type": "markdown",
   "metadata": {},
   "source": [
    "## Model"
   ]
  },
  {
   "cell_type": "code",
   "execution_count": 2,
   "metadata": {},
   "outputs": [],
   "source": [
    "from tinygrad import Tensor, nn\n",
    "\n",
    "class Model:\n",
    "  def __init__(self):\n",
    "    self.l1 = nn.Conv2d(1, 32, kernel_size=(3,3))\n",
    "    self.l2 = nn.Conv2d(32, 64, kernel_size=(3,3))\n",
    "    self.l3 = nn.Linear(1600, 10)\n",
    "\n",
    "  def __call__(self, x:Tensor) -> Tensor:\n",
    "    x = self.l1(x).relu().max_pool2d((2,2))\n",
    "    x = self.l2(x).relu().max_pool2d((2,2))\n",
    "    return self.l3(x.flatten(1).dropout(0.5))"
   ]
  },
  {
   "cell_type": "markdown",
   "metadata": {},
   "source": [
    "## Get the MNIST dataset"
   ]
  },
  {
   "cell_type": "code",
   "execution_count": 3,
   "metadata": {},
   "outputs": [
    {
     "name": "stdout",
     "output_type": "stream",
     "text": [
      "(60000, 1, 28, 28) dtypes.uchar (60000,) dtypes.uchar\n"
     ]
    }
   ],
   "source": [
    "from tinygrad.nn.datasets import mnist\n",
    "\n",
    "X_train, Y_train, X_test, Y_test = mnist()\n",
    "# Use only a third of the training dataset\n",
    "# X_train = X_train[:len(X_train)//3]\n",
    "# Y_train = Y_train[:len(Y_train)//3]\n",
    "print(X_train.shape, X_train.dtype, Y_train.shape, Y_train.dtype)"
   ]
  },
  {
   "cell_type": "markdown",
   "metadata": {},
   "source": [
    "## Use the model"
   ]
  },
  {
   "cell_type": "code",
   "execution_count": 4,
   "metadata": {},
   "outputs": [
    {
     "name": "stdout",
     "output_type": "stream",
     "text": [
      "0.0949999988079071\n"
     ]
    }
   ],
   "source": [
    "model = Model()\n",
    "acc = (model(X_test).argmax(axis=1) == Y_test).mean()\n",
    "print(acc.item())  "
   ]
  },
  {
   "cell_type": "markdown",
   "metadata": {},
   "source": [
    "### Train the model"
   ]
  },
  {
   "cell_type": "code",
   "execution_count": 5,
   "metadata": {},
   "outputs": [],
   "source": [
    "optim = nn.optim.Adam(nn.state.get_parameters(model))\n",
    "batch_size = 128\n",
    "def training_step():\n",
    "    Tensor.training = True  # makes dropout work\n",
    "    samples = Tensor.randint(batch_size, high=X_train.shape[0])\n",
    "    X, Y = X_train[samples], Y_train[samples]\n",
    "    optim.zero_grad()\n",
    "    loss = model(X).sparse_categorical_crossentropy(Y).backward()\n",
    "    optim.step()\n",
    "    return loss"
   ]
  },
  {
   "cell_type": "code",
   "execution_count": 6,
   "metadata": {},
   "outputs": [],
   "source": [
    "# import timeit\n",
    "# execution_times_5ts = [t * 1000 for t in timeit.repeat(training_step, repeat=5, number=1)]\n",
    "# average_time_ts = sum(execution_times_5ts) / len(execution_times_5ts)\n",
    "# print(f\"Average execution time: {average_time_ts:.2f} ms\")"
   ]
  },
  {
   "cell_type": "code",
   "execution_count": 7,
   "metadata": {},
   "outputs": [],
   "source": [
    "from tinygrad import TinyJit\n",
    "\n",
    "jit_step = TinyJit(training_step)"
   ]
  },
  {
   "cell_type": "code",
   "execution_count": 8,
   "metadata": {},
   "outputs": [],
   "source": [
    "# import timeit\n",
    "# execution_times_5js = [t * 1000 for t in timeit.repeat(jit_step, repeat=5, number=1)]\n",
    "# average_time_js = sum(execution_times_5js) / len(execution_times_5js)\n",
    "# print(f\"Average execution time: {average_time_js:.2f} ms\")"
   ]
  },
  {
   "cell_type": "code",
   "execution_count": 9,
   "metadata": {},
   "outputs": [
    {
     "name": "stdout",
     "output_type": "stream",
     "text": [
      "step    0, loss 35.36, test acc 11.07%\n",
      "step  100, loss 0.34, test acc 95.17%\n",
      "step  200, loss 0.29, test acc 96.42%\n",
      "step  300, loss 0.20, test acc 97.21%\n",
      "step  400, loss 0.15, test acc 97.52%\n",
      "step  500, loss 0.16, test acc 97.40%\n",
      "step  600, loss 0.21, test acc 97.50%\n",
      "step  700, loss 0.13, test acc 97.81%\n",
      "step  800, loss 0.20, test acc 97.87%\n",
      "step  900, loss 0.10, test acc 97.92%\n",
      "step 1000, loss 0.19, test acc 97.92%\n",
      "step 1100, loss 0.15, test acc 98.03%\n",
      "step 1200, loss 0.05, test acc 98.06%\n",
      "step 1300, loss 0.05, test acc 98.03%\n",
      "step 1400, loss 0.25, test acc 98.03%\n",
      "step 1500, loss 0.07, test acc 98.00%\n",
      "step 1600, loss 0.11, test acc 98.21%\n",
      "step 1700, loss 0.03, test acc 98.22%\n",
      "step 1800, loss 0.18, test acc 98.20%\n",
      "step 1900, loss 0.15, test acc 98.25%\n",
      "step 2000, loss 0.09, test acc 98.43%\n",
      "step 2100, loss 0.06, test acc 98.43%\n",
      "step 2200, loss 0.06, test acc 98.17%\n",
      "step 2300, loss 0.13, test acc 98.33%\n",
      "step 2400, loss 0.06, test acc 98.55%\n",
      "step 2500, loss 0.10, test acc 98.55%\n",
      "step 2600, loss 0.09, test acc 98.42%\n",
      "step 2700, loss 0.11, test acc 98.54%\n",
      "step 2800, loss 0.08, test acc 98.37%\n",
      "step 2900, loss 0.10, test acc 98.44%\n",
      "step 3000, loss 0.06, test acc 98.53%\n",
      "step 3100, loss 0.10, test acc 98.60%\n",
      "step 3200, loss 0.09, test acc 98.67%\n",
      "step 3300, loss 0.07, test acc 98.36%\n",
      "step 3400, loss 0.11, test acc 98.53%\n",
      "step 3500, loss 0.07, test acc 98.61%\n",
      "step 3600, loss 0.05, test acc 98.81%\n",
      "step 3700, loss 0.04, test acc 98.43%\n",
      "step 3800, loss 0.04, test acc 98.62%\n",
      "step 3900, loss 0.02, test acc 98.47%\n",
      "step 4000, loss 0.08, test acc 98.60%\n",
      "step 4100, loss 0.27, test acc 98.76%\n",
      "step 4200, loss 0.04, test acc 98.62%\n",
      "step 4300, loss 0.08, test acc 98.58%\n",
      "step 4400, loss 0.06, test acc 98.72%\n",
      "step 4500, loss 0.10, test acc 98.76%\n",
      "step 4600, loss 0.09, test acc 98.70%\n",
      "step 4700, loss 0.03, test acc 98.73%\n",
      "step 4800, loss 0.07, test acc 98.85%\n",
      "step 4900, loss 0.03, test acc 98.77%\n",
      "step 5000, loss 0.06, test acc 98.58%\n",
      "step 5100, loss 0.04, test acc 98.82%\n",
      "step 5200, loss 0.02, test acc 98.64%\n",
      "step 5300, loss 0.06, test acc 98.87%\n",
      "step 5400, loss 0.02, test acc 98.67%\n",
      "step 5500, loss 0.06, test acc 98.63%\n",
      "step 5600, loss 0.03, test acc 98.70%\n",
      "step 5700, loss 0.12, test acc 98.71%\n",
      "step 5800, loss 0.11, test acc 98.63%\n",
      "step 5900, loss 0.04, test acc 98.75%\n",
      "step 6000, loss 0.12, test acc 98.77%\n",
      "step 6100, loss 0.09, test acc 98.70%\n",
      "step 6200, loss 0.03, test acc 98.60%\n",
      "step 6300, loss 0.07, test acc 98.75%\n",
      "step 6400, loss 0.02, test acc 98.59%\n",
      "step 6500, loss 0.06, test acc 98.76%\n",
      "step 6600, loss 0.10, test acc 98.75%\n",
      "step 6700, loss 0.02, test acc 98.58%\n",
      "step 6800, loss 0.08, test acc 98.77%\n",
      "step 6900, loss 0.14, test acc 98.73%\n"
     ]
    }
   ],
   "source": [
    "train_losses = []\n",
    "test_losses = []\n",
    "\n",
    "train_accuracies = []\n",
    "test_accuracies = []\n",
    "\n",
    "for step in range(7000):\n",
    "    # Calculate train loss\n",
    "    loss = jit_step()\n",
    "    train_losses.append(loss.item())\n",
    "\n",
    "    if step%100 == 0:\n",
    "        Tensor.training = False     # Disables dropout for evaluation\n",
    "\n",
    "        # Calculate train accuracy\n",
    "        # train_outputs = model(X_train)\n",
    "        # train_acc = (train_outputs.argmax(axis=1) == Y_train).mean().item()\n",
    "        # train_accuracies.append(train_acc)\n",
    "\n",
    "        # Calculate test accuracy\n",
    "        test_outputs = model(X_test)\n",
    "        test_acc = (test_outputs.argmax(axis=1) == Y_test).mean().item()\n",
    "        test_accuracies.append(test_acc)\n",
    "\n",
    "        # Calculate test loss\n",
    "        test_loss = test_outputs.sparse_categorical_crossentropy(Y_test).mean().item()\n",
    "        test_losses.append(test_loss)\n",
    "\n",
    "        # print(f\"step {step:4d}, loss {loss.item():.2f}, train acc {train_acc*100.:.2f}%, test acc {test_acc*100.:.2f}%\")\n",
    "        print(f\"step {step:4d}, loss {loss.item():.2f}, test acc {test_acc*100.:.2f}%\")"
   ]
  },
  {
   "cell_type": "markdown",
   "metadata": {},
   "source": [
    "### Plot the loss"
   ]
  },
  {
   "cell_type": "code",
   "execution_count": 10,
   "metadata": {},
   "outputs": [
    {
     "data": {
      "image/png": "[encoded data removed]",
      "text/plain": [
       "<Figure size 1000x500 with 1 Axes>"
      ]
     },
     "metadata": {},
     "output_type": "display_data"
    }
   ],
   "source": [
    "import matplotlib.pyplot as plt\n",
    "\n",
    "plt.figure(figsize=(10, 5))\n",
    "plt.plot(range(len(train_losses)), train_losses, label='Train Loss')\n",
    "plt.plot(range(0, len(test_losses) * 100, 100), test_losses, label='Test Loss') # every 100 steps\n",
    "plt.title('Tinygrad: Train and Test Loss')\n",
    "plt.xlabel('Steps')\n",
    "plt.ylabel('Loss')\n",
    "plt.legend()\n",
    "plt.grid(True)\n",
    "plt.show()"
   ]
  },
  {
   "cell_type": "markdown",
   "metadata": {},
   "source": [
    "### Plot the accuracy"
   ]
  },
  {
   "cell_type": "code",
   "execution_count": 11,
   "metadata": {},
   "outputs": [
    {
     "data": {
      "image/png": "[encoded data removed]",
      "text/plain": [
       "<Figure size 1000x500 with 1 Axes>"
      ]
     },
     "metadata": {},
     "output_type": "display_data"
    }
   ],
   "source": [
    "plt.figure(figsize=(10, 5))\n",
    "plt.plot(range(0, len(train_accuracies) * 100, 100), train_accuracies, label='Train Accuracy')\n",
    "plt.plot(range(0, len(test_accuracies) * 100, 100), test_accuracies, label='Test Accuracy')\n",
    "plt.title('Tinygrad: Train and Test Accuracy')\n",
    "plt.xlabel('Steps')\n",
    "plt.ylabel('Accuracy')\n",
    "plt.legend()\n",
    "plt.grid(True)\n",
    "plt.show()"
   ]
  },
  {
   "cell_type": "markdown",
   "metadata": {},
   "source": [
    "### Save the weights"
   ]
  },
  {
   "cell_type": "code",
   "execution_count": 12,
   "metadata": {},
   "outputs": [],
   "source": [
    "import numpy as np\n",
    "\n",
    "tinygrad_weights = {\n",
    "    'l1.weight': model.l1.weight.numpy(),\n",
    "    'l1.bias': model.l1.bias.numpy(),\n",
    "    'l2.weight': model.l2.weight.numpy(),\n",
    "    'l2.bias': model.l2.bias.numpy(),\n",
    "    'l3.weight': model.l3.weight.numpy(),\n",
    "    'l3.bias': model.l3.bias.numpy()\n",
    "}\n",
    "np.save('tinygrad_weights.npy', tinygrad_weights)"
   ]
  },
  {
   "cell_type": "markdown",
   "metadata": {},
   "source": [
    "## Final probabilities"
   ]
  },
  {
   "cell_type": "code",
   "execution_count": 13,
   "metadata": {},
   "outputs": [
    {
     "name": "stdout",
     "output_type": "stream",
     "text": [
      "tinygrad probabilities: [[9.79151181e-14 1.03726665e-13 2.28489519e-10 5.26712441e-12\n",
      "  7.12620079e-19 5.35970189e-17 9.85895792e-22 1.00000000e+00\n",
      "  1.53749490e-13 5.15194441e-12]]\n"
     ]
    }
   ],
   "source": [
    "test_image = X_test[0:1]\n",
    "tinygrad_probs = model(test_image).softmax().numpy()\n",
    "print(\"tinygrad probabilities:\", tinygrad_probs)"
   ]
  }
 ],
 "metadata": {
  "kernelspec": {
   "display_name": ".venv",
   "language": "python",
   "name": "python3"
  },
  "language_info": {
   "codemirror_mode": {
    "name": "ipython",
    "version": 3
   },
   "file_extension": ".py",
   "mimetype": "text/x-python",
   "name": "python",
   "nbconvert_exporter": "python",
   "pygments_lexer": "ipython3",
   "version": "3.9.6"
  }
 },
 "nbformat": 4,
 "nbformat_minor": 2
}
