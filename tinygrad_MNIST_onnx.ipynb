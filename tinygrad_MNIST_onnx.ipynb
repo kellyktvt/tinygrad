{
 "cells": [
  {
   "cell_type": "markdown",
   "metadata": {},
   "source": [
    "## Load ONNX model in tinygrad"
   ]
  },
  {
   "cell_type": "code",
   "execution_count": 9,
   "metadata": {},
   "outputs": [],
   "source": [
    "import onnx\n",
    "from extra.onnx import get_run_onnx\n",
    "\n",
    "model = onnx.load(\"mnist_model.onnx\")\n",
    "# Create a callable object 'run_onnx' that executes the model\n",
    "run_onnx = get_run_onnx(model)"
   ]
  },
  {
   "cell_type": "markdown",
   "metadata": {},
   "source": [
    "## Count parameters"
   ]
  },
  {
   "cell_type": "code",
   "execution_count": 10,
   "metadata": {},
   "outputs": [
    {
     "name": "stdout",
     "output_type": "stream",
     "text": [
      "+-----------+------------+\n",
      "|  Modules  | Parameters |\n",
      "+-----------+------------+\n",
      "| l1.weight |    288     |\n",
      "|  l1.bias  |     32     |\n",
      "| l2.weight |   18432    |\n",
      "|  l2.bias  |     64     |\n",
      "| l3.weight |   16000    |\n",
      "|  l3.bias  |     10     |\n",
      "+-----------+------------+\n",
      "Total Trainable Params: 34826\n",
      "\n"
     ]
    },
    {
     "data": {
      "text/plain": [
       "np.int64(34826)"
      ]
     },
     "execution_count": 10,
     "metadata": {},
     "output_type": "execute_result"
    }
   ],
   "source": [
    "from prettytable import PrettyTable\n",
    "import numpy as np\n",
    "\n",
    "def count_parameters(model):\n",
    "    table = PrettyTable([\"Modules\", \"Parameters\"])\n",
    "    total_params = 0\n",
    "    # ONNX uses model.graph.initializer to iterate through the parameters (nodes)\n",
    "    for node in model.graph.initializer:\n",
    "        # ONNX uses np.prod() to calculate parameter count by multiplying the dimensions (node.dims = parameter shape)\n",
    "        num_params = np.prod(node.dims)\n",
    "        table.add_row([node.name, num_params])\n",
    "        total_params += num_params\n",
    "    print(table)\n",
    "    print(f\"Total Trainable Params: {total_params}\\n\")\n",
    "    return total_params\n",
    "\n",
    "count_parameters(model)"
   ]
  },
  {
   "cell_type": "markdown",
   "metadata": {},
   "source": [
    "## Get the MNIST dataset"
   ]
  },
  {
   "cell_type": "code",
   "execution_count": 11,
   "metadata": {},
   "outputs": [
    {
     "name": "stdout",
     "output_type": "stream",
     "text": [
      "(60000, 1, 28, 28) dtypes.uchar (60000,) dtypes.uchar\n"
     ]
    }
   ],
   "source": [
    "from tinygrad.nn.datasets import mnist\n",
    "\n",
    "X_train, Y_train, X_test, Y_test = mnist()\n",
    "print(X_train.shape, X_train.dtype, Y_train.shape, Y_train.dtype)"
   ]
  },
  {
   "cell_type": "markdown",
   "metadata": {},
   "source": [
    "## Final probabilities"
   ]
  },
  {
   "cell_type": "code",
   "execution_count": 12,
   "metadata": {},
   "outputs": [
    {
     "name": "stdout",
     "output_type": "stream",
     "text": [
      "tinygrad probabilities: [[2.6173244e-14 4.2464655e-14 6.4881434e-08 4.5528861e-09 2.0712009e-17\n",
      "  4.9732746e-11 1.3766536e-21 9.9999988e-01 8.9217121e-13 8.5283941e-10]]\n"
     ]
    }
   ],
   "source": [
    "# Select the first test image\n",
    "test_image = X_test[0:1]\n",
    "\n",
    "# Run the ONNX model using run_onnx function with the test image as input\n",
    "# The model expects an input with the key \"input.1\"\n",
    "onnx_output = run_onnx({\"input.1\": test_image})\n",
    "\n",
    "# Get the output tensor (single vector of 10 values, 1 for each digit class)\n",
    "output_tensor = list(onnx_output.values())[0]\n",
    "\n",
    "# Apply softmax and convert to numpy\n",
    "tinygrad_probs = output_tensor.softmax().numpy()\n",
    "\n",
    "# Print the resulting probabilities\n",
    "print(\"tinygrad probabilities:\", tinygrad_probs)"
   ]
  }
 ],
 "metadata": {
  "kernelspec": {
   "display_name": ".venv",
   "language": "python",
   "name": "python3"
  },
  "language_info": {
   "codemirror_mode": {
    "name": "ipython",
    "version": 3
   },
   "file_extension": ".py",
   "mimetype": "text/x-python",
   "name": "python",
   "nbconvert_exporter": "python",
   "pygments_lexer": "ipython3",
   "version": "3.12.5"
  }
 },
 "nbformat": 4,
 "nbformat_minor": 2
}
